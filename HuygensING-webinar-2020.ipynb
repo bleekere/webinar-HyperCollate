{
 "cells": [
  {
   "cell_type": "markdown",
   "metadata": {
    "slideshow": {
     "slide_type": "slide"
    }
   },
   "source": [
    "<div align=\"center\"><h1>Automated collation of nonlinear text</h1>\n",
    "<h3>or: how to describe textual revisions to a computer</h3>\n",
    "<br/>\n",
    "<h4>Elli Bleeker, Bram Buitendijk, Ronald Haentjens Dekker\n",
    "    <br/>R&amp;D group</h4>\n",
    "    <h6>Huyygens webinar – April 3476th, 2020</h6>\n",
    "</div>"
   ]
  },
  {
   "cell_type": "markdown",
   "metadata": {
    "slideshow": {
     "slide_type": "slide"
    }
   },
   "source": [
    "## How do we, as humans, perceive and process information?"
   ]
  },
  {
   "cell_type": "markdown",
   "metadata": {
    "slideshow": {
     "slide_type": "fragment"
    }
   },
   "source": [
    "## How can we impose that view on data processing machines?"
   ]
  },
  {
   "cell_type": "markdown",
   "metadata": {
    "slideshow": {
     "slide_type": "fragment"
    }
   },
   "source": [
    "## What constructs and tactics do we use to cope with complexity, ambiguity, incomplete information, mismatched viewpoints, and conflicting objectives?"
   ]
  },
  {
   "cell_type": "markdown",
   "metadata": {
    "slideshow": {
     "slide_type": "fragment"
    }
   },
   "source": [
    "After William Kent, _Data and Reality_ ([1978] 2002)"
   ]
  },
  {
   "cell_type": "markdown",
   "metadata": {
    "slideshow": {
     "slide_type": "slide"
    }
   },
   "source": [
    "## Topic of this talk:\n",
    "\n",
    "### Dealing with complex, ambiguous, or incomplete texts in the context of automated collation."
   ]
  },
  {
   "cell_type": "markdown",
   "metadata": {
    "slideshow": {
     "slide_type": "subslide"
    }
   },
   "source": [
    "<img src=\"images/brulez-fragment-manuscript.png\">\n",
    "\n",
    "(Source: Raymond Brulez, 1930. Authorial manuscript of _Wat is liefde zonder verleiding_. Located in the AMVC\n",
    "Letterenhuis, Antwerp, Belgium. B917/H2a)"
   ]
  },
  {
   "cell_type": "markdown",
   "metadata": {
    "slideshow": {
     "slide_type": "fragment"
    }
   },
   "source": [
    "<img src=\"images/brulez-transcript-ms.png\">"
   ]
  },
  {
   "cell_type": "markdown",
   "metadata": {
    "slideshow": {
     "slide_type": "subslide"
    }
   },
   "source": [
    "<img src=\"images/brulez-fragment-typoscript.png\">\n",
    "\n",
    "(Source: Raymond Brulez, 1930-1932. Folio typescript of _Wat is liefde zonder verleiding_. Located in the AMVC Letterenhuis, Antwerp, Belgium. B917/H2bis)"
   ]
  },
  {
   "cell_type": "markdown",
   "metadata": {
    "slideshow": {
     "slide_type": "fragment"
    }
   },
   "source": [
    "<img src=\"images/brulez-transcript-ts.png\">"
   ]
  },
  {
   "cell_type": "markdown",
   "metadata": {
    "slideshow": {
     "slide_type": "subslide"
    }
   },
   "source": [
    "## Revision layers\n",
    "\n",
    "**Manuscript**\n",
    "1. Het was heerlijk zich aldus eens te laten beleedigen\n",
    "2. Het <del>was heerlijk</del> zich aldus eens te laten beleedigen\n",
    "3. Het zalig zich aldus eens te laten beleedigen\n",
    "\n",
    "**Typescript**\n",
    "1. Zalig was het zich aldus te laten beleedigen\n",
    "2. Zalig was het <del>zich aldus te laten beleedigen</del>\n",
    "3. Zalig was het in die stortbui van beleedigingen te staan; heerlijk om ..."
   ]
  },
  {
   "cell_type": "markdown",
   "metadata": {
    "slideshow": {
     "slide_type": "slide"
    }
   },
   "source": [
    "## Research question: \n",
    "\n",
    "### how can we align our (human) understanding of textual revisions with the computer's, in order to improve the collation output?"
   ]
  },
  {
   "cell_type": "markdown",
   "metadata": {
    "slideshow": {
     "slide_type": "slide"
    }
   },
   "source": [
    "## Part 1. Structures of digital text\n",
    "## Part 2. Automated collation and XML documents\n",
    "## Part 3. R&D: Research is always under Development"
   ]
  },
  {
   "cell_type": "markdown",
   "metadata": {
    "slideshow": {
     "slide_type": "slide"
    }
   },
   "source": [
    "<div align=\"center\"><h1>Part 1 : Structures of digital text</h1></div>"
   ]
  },
  {
   "cell_type": "markdown",
   "metadata": {
    "slideshow": {
     "slide_type": "slide"
    }
   },
   "source": [
    "### Source text:\n",
    "<img src=\"data-marijke/min-ez-1954-fragment.png\">\n",
    "\n",
    "(Source: fragment from the minutes of the Ministery of Economic Affairs (Economische Zaken), 1954. Located in the Nationaal Archief; with many thanks to Marijke van Faassen)."
   ]
  },
  {
   "cell_type": "markdown",
   "metadata": {
    "slideshow": {
     "slide_type": "fragment"
    }
   },
   "source": [
    "### Transcription:\n",
    "<img src=\"data-marijke/transcript-fragment.png\">"
   ]
  },
  {
   "cell_type": "markdown",
   "metadata": {
    "slideshow": {
     "slide_type": "subslide"
    }
   },
   "source": [
    "### XML/TEI transcription:\n",
    "`<tei>een <del>voldoende betrouwbare</del> <add>zekere</add> basis</tei>`"
   ]
  },
  {
   "cell_type": "markdown",
   "metadata": {
    "slideshow": {
     "slide_type": "fragment"
    }
   },
   "source": [
    "<img src=\"data-marijke/viz-tree-fragment.png\">"
   ]
  },
  {
   "cell_type": "markdown",
   "metadata": {
    "slideshow": {
     "slide_type": "subslide"
    }
   },
   "source": [
    "### Computer: <img src=\"data-marijke/viz-tree-fragment.png\">"
   ]
  },
  {
   "cell_type": "markdown",
   "metadata": {
    "slideshow": {
     "slide_type": "fragment"
    }
   },
   "source": [
    "### Collation tool: \n",
    "</br>\n",
    "</br><img src=\"data-marijke/viz-tokens-fragment.png\">"
   ]
  },
  {
   "cell_type": "markdown",
   "metadata": {
    "slideshow": {
     "slide_type": "notes"
    }
   },
   "source": [
    "There are ways (using CollateX JSON input) to pass along information about the revisions through the collation pipeline, but the alignment is carried out on the sequence of tokens.  "
   ]
  },
  {
   "cell_type": "markdown",
   "metadata": {
    "slideshow": {
     "slide_type": "slide"
    }
   },
   "source": [
    "<img width=\"1200\" height=\"1200\" src=\"images/user-comp-tool.png\">"
   ]
  },
  {
   "cell_type": "markdown",
   "metadata": {
    "slideshow": {
     "slide_type": "notes"
    }
   },
   "source": [
    "As a result from the flattening of the text on the typescript, the deletion and the addition become one sequence of text tokens: the history of the text is erased. If you are, like Marijke, interested in exactly the succession of textual changes, this is a significant loss of information."
   ]
  },
  {
   "cell_type": "markdown",
   "metadata": {
    "slideshow": {
     "slide_type": "subslide"
    }
   },
   "source": [
    "## A matter of translation:\n"
   ]
  },
  {
   "cell_type": "markdown",
   "metadata": {
    "slideshow": {
     "slide_type": "fragment"
    }
   },
   "source": [
    "### What is the human understanding of text with revisions? How can we translate that into something a computer would understand?"
   ]
  },
  {
   "cell_type": "markdown",
   "metadata": {
    "slideshow": {
     "slide_type": "slide"
    }
   },
   "source": [
    "# 1. Linear text\n",
    "\n",
    "<img src=\"data-marijke/min-ez-1954-fragment2.png\">"
   ]
  },
  {
   "cell_type": "markdown",
   "metadata": {
    "slideshow": {
     "slide_type": "subslide"
    }
   },
   "source": [
    "### XML/TEI transcription:\n",
    "`<tei>Indien met het vorenvermelde rekening wordt gehouden</tei>`"
   ]
  },
  {
   "cell_type": "markdown",
   "metadata": {
    "slideshow": {
     "slide_type": "fragment"
    }
   },
   "source": [
    "### Tree structure: <img width=\"500\" height=\"500\" align=\"center\" src=\"data-marijke/viz-tree-fragment2.png\">"
   ]
  },
  {
   "cell_type": "markdown",
   "metadata": {
    "slideshow": {
     "slide_type": "fragment"
    }
   },
   "source": [
    "### Token sequence: \n",
    "\n",
    "<br/>\n",
    "<img width=\"500\" height=\"500\" src=\"data-marijke/viz-tokens-fragment2.png\">"
   ]
  },
  {
   "cell_type": "markdown",
   "metadata": {
    "slideshow": {
     "slide_type": "slide"
    }
   },
   "source": [
    "# 2. Nonlinear text\n",
    "\n",
    "<img src=\"data-evina/Isidorus-f9r-fragment.png\">\n",
    "(Source: Isidorus Hispalensis, *Etymologiarum sive originum libri; De natura rerum*, f.9r. Located in Zofingen, Stadtbibliothek / Pa 32; with many thanks to Evina Steinova)."
   ]
  },
  {
   "cell_type": "markdown",
   "metadata": {
    "slideshow": {
     "slide_type": "fragment"
    }
   },
   "source": [
    "### Transcription:\n",
    "<img src=\"data-evina/isidorus-transcript-fragment.png\">"
   ]
  },
  {
   "cell_type": "markdown",
   "metadata": {
    "slideshow": {
     "slide_type": "subslide"
    }
   },
   "source": [
    "### XML/TEI transcription: \n",
    "\n",
    "`<tei>Concurrentibus enim <add place=\"above\">in se</add> invicem alfa</tei>`"
   ]
  },
  {
   "cell_type": "markdown",
   "metadata": {
    "slideshow": {
     "slide_type": "subslide"
    }
   },
   "source": [
    "### Tree structure:\n",
    "\n",
    "<img width=\"500\" height=\"500\" src=\"data-evina/isidorus-viz-transcript.png\">"
   ]
  },
  {
   "cell_type": "markdown",
   "metadata": {
    "slideshow": {
     "slide_type": "fragment"
    }
   },
   "source": [
    "### Token sequence:\n",
    "<img width=\"500\" height=\"500\" src=\"data-evina/isidorus-tokens.png\">"
   ]
  },
  {
   "cell_type": "markdown",
   "metadata": {
    "slideshow": {
     "slide_type": "notes"
    }
   },
   "source": [
    "As said before, if we simply tokenize the text in an XML/TEI document, we \"flatten\" the nonlinear text and lose significant information about the revision process. \n",
    "\n",
    "But what is the best way to describe a textual revision in an informational way? As a human reader, I would say: this text can be read in several orders. In other words, there is a point in the text where the words no longer form a linear sequence. I may be biased(!), but I consider a variant graph a good representation of the two ways of reading this text:"
   ]
  },
  {
   "cell_type": "markdown",
   "metadata": {
    "slideshow": {
     "slide_type": "subslide"
    }
   },
   "source": [
    "<img src=\"data-evina/variant-graph-isidorus-f9r.png\">"
   ]
  },
  {
   "cell_type": "markdown",
   "metadata": {
    "slideshow": {
     "slide_type": "slide"
    }
   },
   "source": [
    "## Our definition of text:\n",
    "\n",
    "### Text is a multilayered, nonlinear construct containing information that is at times ordered, unordered, and partially ordered."
   ]
  },
  {
   "cell_type": "markdown",
   "metadata": {
    "slideshow": {
     "slide_type": "slide"
    }
   },
   "source": [
    "<div align=\"center\"><h1>2. Automated collation and XML</h1></div>"
   ]
  },
  {
   "cell_type": "markdown",
   "metadata": {
    "slideshow": {
     "slide_type": "subslide"
    }
   },
   "source": [
    "## Current approaches to collating nonlinear text"
   ]
  },
  {
   "cell_type": "markdown",
   "metadata": {
    "slideshow": {
     "slide_type": "fragment"
    }
   },
   "source": [
    "### 1. Selecting one writing stage as a witness"
   ]
  },
  {
   "cell_type": "markdown",
   "metadata": {
    "slideshow": {
     "slide_type": "fragment"
    }
   },
   "source": [
    "### 2. Creating pseudo-witnesses of the different writing stages"
   ]
  },
  {
   "cell_type": "markdown",
   "metadata": {
    "slideshow": {
     "slide_type": "fragment"
    }
   },
   "source": [
    "### 3. Using the JSON input to pass along relevant markup information\n",
    "(CollateX only)"
   ]
  },
  {
   "cell_type": "markdown",
   "metadata": {
    "slideshow": {
     "slide_type": "fragment"
    }
   },
   "source": [
    "### 4. Using a diff algorithm (a delta) to compare the XML documents"
   ]
  },
  {
   "cell_type": "markdown",
   "metadata": {
    "slideshow": {
     "slide_type": "subslide"
    }
   },
   "source": [
    "## HyperCollate"
   ]
  },
  {
   "cell_type": "markdown",
   "metadata": {
    "slideshow": {
     "slide_type": "notes"
    }
   },
   "source": [
    "**[Switch to HyperCollate notebook]**"
   ]
  },
  {
   "cell_type": "markdown",
   "metadata": {
    "slideshow": {
     "slide_type": "slide"
    }
   },
   "source": [
    "<div align=\"center\"><h1>3. Research under Development</h1></div>"
   ]
  },
  {
   "cell_type": "markdown",
   "metadata": {
    "slideshow": {
     "slide_type": "subslide"
    }
   },
   "source": [
    "## Ongoing issues: "
   ]
  },
  {
   "cell_type": "markdown",
   "metadata": {
    "slideshow": {
     "slide_type": "fragment"
    }
   },
   "source": [
    "### Transpositions\n",
    "\n",
    "These bad boys remain a challenge for collation software. Unless you want to consider them as a \"simple\" deletion and an addition."
   ]
  },
  {
   "cell_type": "markdown",
   "metadata": {
    "slideshow": {
     "slide_type": "fragment"
    }
   },
   "source": [
    "### Open variants\n",
    "<img src=\"images/open-variants-ex.png\">\n",
    "\n",
    "(Source: the BDMP encoding manual; created by Wout Dillen and Vincent Neyt)"
   ]
  },
  {
   "cell_type": "markdown",
   "metadata": {
    "slideshow": {
     "slide_type": "subslide"
    }
   },
   "source": [
    "### Visualisations of the output\n",
    "- ASCII table?\n",
    "- HTML table?\n",
    "- (Colored) graph?"
   ]
  },
  {
   "cell_type": "markdown",
   "metadata": {
    "slideshow": {
     "slide_type": "fragment"
    }
   },
   "source": [
    "### Immediate corrections (*Sofortkorrektur*, revision *currente calamo*)"
   ]
  },
  {
   "cell_type": "markdown",
   "metadata": {
    "slideshow": {
     "slide_type": "notes"
    }
   },
   "source": [
    "We do not consider this type of corrections to be nonlinear, because the correction is made in one and the same writing layer. At the moment, HyperCollate only recognises the `<del>` element and not its @attribute `type=\"instant\"` or `type=\"direct\"`. So immediate corrections are now treated as nonlinear text, while they shouldn't be (we think)."
   ]
  },
  {
   "cell_type": "markdown",
   "metadata": {
    "slideshow": {
     "slide_type": "fragment"
    }
   },
   "source": [
    "### (Insignificant) whitespace between elements representing revisions"
   ]
  },
  {
   "cell_type": "markdown",
   "metadata": {
    "slideshow": {
     "slide_type": "notes"
    }
   },
   "source": [
    "This problem is part of a bigger problem: not all encoders use the same encoding conventions. We assume that a `<del>` that is *directly* followed by an `<add>` can be grouped together as a `<subst>` (heuristic). However, *some* encoders separate the `<del>` and the `<add>` with a whitespace. Even though these encoders would consider the deletion and addition as being part of the same revision (and thus eligible to be grouped together with a `<subst>`), the heuristic will consider them to be two separate corrections. "
   ]
  },
  {
   "cell_type": "markdown",
   "metadata": {
    "slideshow": {
     "slide_type": "slide"
    }
   },
   "source": [
    "# More information:\n",
    "\n",
    "- mail us! \n",
    "- check out the HyperCollate website: https://huygensing.github.io/hyper-collate/\n",
    "- take a look at our previous presentations / papers: https://github.com/HuygensING/TAG#presentations-and-publications"
   ]
  }
 ],
 "metadata": {
  "celltoolbar": "Slideshow",
  "kernelspec": {
   "display_name": "Python 3",
   "language": "python",
   "name": "python3"
  },
  "language_info": {
   "codemirror_mode": {
    "name": "ipython",
    "version": 3
   },
   "file_extension": ".py",
   "mimetype": "text/x-python",
   "name": "python",
   "nbconvert_exporter": "python",
   "pygments_lexer": "ipython3",
   "version": "3.6.10"
  },
  "widgets": {
   "application/vnd.jupyter.widget-state+json": {
    "state": {},
    "version_major": 2,
    "version_minor": 0
   }
  }
 },
 "nbformat": 4,
 "nbformat_minor": 4
}
