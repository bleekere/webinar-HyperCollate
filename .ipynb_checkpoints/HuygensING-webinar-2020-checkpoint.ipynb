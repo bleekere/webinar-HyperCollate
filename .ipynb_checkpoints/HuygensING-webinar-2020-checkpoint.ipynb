{
 "cells": [
  {
   "cell_type": "markdown",
   "metadata": {
    "slideshow": {
     "slide_type": "slide"
    }
   },
   "source": [
    "<div align=\"center\"><h1>Automated collation of nonlinear text</h1>\n",
    "<h3>or: how to describe textual revisions to a computer</h3>\n",
    "<br/>\n",
    "<h4>Elli Bleeker, Bram Buitendijk, Ronald Haentjens Dekker\n",
    "    <br/>R&amp;D group</h4>\n",
    "    <h6>Huyygens webinar – April 3476th, 2020</h6>\n",
    "</div>"
   ]
  },
  {
   "cell_type": "markdown",
   "metadata": {
    "slideshow": {
     "slide_type": "slide"
    }
   },
   "source": [
    "## How do we, as humans, perceive and process information?"
   ]
  },
  {
   "cell_type": "markdown",
   "metadata": {
    "slideshow": {
     "slide_type": "fragment"
    }
   },
   "source": [
    "## How can we impose that view on data processing machines?"
   ]
  },
  {
   "cell_type": "markdown",
   "metadata": {
    "slideshow": {
     "slide_type": "fragment"
    }
   },
   "source": [
    "## What constructs and tactics do we use to cope with complexity, ambiguity, incomplete information, mismatched viewpoints, and conflicting objectives?"
   ]
  },
  {
   "cell_type": "markdown",
   "metadata": {
    "slideshow": {
     "slide_type": "fragment"
    }
   },
   "source": [
    "After William Kent, _Data and Reality_ (2002 [1978])"
   ]
  },
  {
   "cell_type": "markdown",
   "metadata": {},
   "source": [
    "**[Clear example of standard collation falling short.]**"
   ]
  },
  {
   "cell_type": "markdown",
   "metadata": {
    "slideshow": {
     "slide_type": "slide"
    }
   },
   "source": [
    "## Research question: \n",
    "\n",
    "### how can we align our (human) understanding of textual revisions with the computer's, in order to improve the collation output?"
   ]
  },
  {
   "cell_type": "markdown",
   "metadata": {
    "slideshow": {
     "slide_type": "slide"
    }
   },
   "source": [
    "## Part 1. Structures of digital text\n",
    "## Part 2. Automated collation and XML documents\n",
    "## Part 3. R&D: Research is always under Development"
   ]
  },
  {
   "cell_type": "markdown",
   "metadata": {
    "slideshow": {
     "slide_type": "slide"
    }
   },
   "source": [
    "<div align=\"center\"><h1>Part 1 : Structures of digital text</h1></div>"
   ]
  },
  {
   "cell_type": "markdown",
   "metadata": {
    "slideshow": {
     "slide_type": "slide"
    }
   },
   "source": [
    "<img src=\"data-marijke/min-ez-1954-fragment.png\">\n",
    "\n",
    "Source: xxx"
   ]
  },
  {
   "cell_type": "markdown",
   "metadata": {
    "slideshow": {
     "slide_type": "fragment"
    }
   },
   "source": [
    "<img src=\"data-marijke/transcript-fragment.png\">"
   ]
  },
  {
   "cell_type": "markdown",
   "metadata": {
    "slideshow": {
     "slide_type": "fragment"
    }
   },
   "source": [
    "... `<tei>een <del>voldoende betrouwbare</del> <add>zekere</add> basis</tei>` ..."
   ]
  },
  {
   "cell_type": "markdown",
   "metadata": {
    "slideshow": {
     "slide_type": "subslide"
    }
   },
   "source": [
    "`<tei>een <del>voldoende betrouwbare</del> <add>zekere</add> basis</tei>`"
   ]
  },
  {
   "cell_type": "markdown",
   "metadata": {
    "slideshow": {
     "slide_type": "fragment"
    }
   },
   "source": [
    "<img src=\"data-marijke/viz-tree-fragment.png\">"
   ]
  },
  {
   "cell_type": "markdown",
   "metadata": {
    "slideshow": {
     "slide_type": "subslide"
    }
   },
   "source": [
    "### Computer: <img src=\"data-marijke/viz-tree-fragment.png\">"
   ]
  },
  {
   "cell_type": "markdown",
   "metadata": {
    "slideshow": {
     "slide_type": "fragment"
    }
   },
   "source": [
    "### Collation tool: \n",
    "</br>\n",
    "</br><img src=\"data-marijke/viz-tokens-fragment.png\">"
   ]
  },
  {
   "cell_type": "markdown",
   "metadata": {
    "slideshow": {
     "slide_type": "notes"
    }
   },
   "source": [
    "There are ways (using CollateX JSON input) to pass along information about the revisions through the collation pipeline, but the alignment is carried out on the sequence of tokens.  "
   ]
  },
  {
   "cell_type": "markdown",
   "metadata": {
    "slideshow": {
     "slide_type": "slide"
    }
   },
   "source": [
    "<img width=\"1200\" height=\"1200\" src=\"images/user-comp-tool.png\">"
   ]
  },
  {
   "cell_type": "markdown",
   "metadata": {
    "slideshow": {
     "slide_type": "notes"
    }
   },
   "source": [
    "As a result from the flattening of the text on the typescript, the deletion and the addition become one sequence of text tokens: the history of the text is erased. If you are, like Marijke, interested in exactly the succession of textual changes, this is a significant loss of information."
   ]
  },
  {
   "cell_type": "markdown",
   "metadata": {
    "slideshow": {
     "slide_type": "subslide"
    }
   },
   "source": [
    "## A matter of translation:\n"
   ]
  },
  {
   "cell_type": "markdown",
   "metadata": {
    "slideshow": {
     "slide_type": "fragment"
    }
   },
   "source": [
    "### What is the human understanding of linear and nonlinear text?"
   ]
  },
  {
   "cell_type": "markdown",
   "metadata": {
    "slideshow": {
     "slide_type": "slide"
    }
   },
   "source": [
    "## Linear text:\n",
    "\n",
    "<img src=\"data-marijke/min-ez-1954-fragment2.png\">"
   ]
  },
  {
   "cell_type": "markdown",
   "metadata": {
    "slideshow": {
     "slide_type": "fragment"
    }
   },
   "source": [
    "\"Indien met het vorenvermelde rekening wordt gehouden...\"\n",
    "\n",
    "`<tei>Indien met het vorenvermelde rekening wordt gehouden<tei>`"
   ]
  },
  {
   "cell_type": "markdown",
   "metadata": {
    "slideshow": {
     "slide_type": "fragment"
    }
   },
   "source": [
    "### Tree structure: <img width=\"500\" height=\"500\" src=\"data-marijke/viz-tree-fragment2.png\">"
   ]
  },
  {
   "cell_type": "markdown",
   "metadata": {
    "slideshow": {
     "slide_type": "fragment"
    }
   },
   "source": [
    "### Token sequence: \n",
    "\n",
    "<br/>\n",
    "<img width=\"500\" height=\"500\" src=\"data-marijke/viz-tokens-fragment2.png\">"
   ]
  },
  {
   "cell_type": "markdown",
   "metadata": {
    "slideshow": {
     "slide_type": "slide"
    }
   },
   "source": [
    "## Nonlinear text:\n",
    "\n",
    "<img src=\"data-evina/Isidorus-f9r-fragment.png\">\n",
    "Source: Zofingen, Stadtbibliothek / Pa 32 – Isidorus Hispalensis, *Etymologiarum sive originum libri; De natura rerum*, f.9r (with many thanks to Evina Steinova)."
   ]
  },
  {
   "cell_type": "markdown",
   "metadata": {
    "slideshow": {
     "slide_type": "fragment"
    }
   },
   "source": [
    "Transcription: Concurrentibus enim (in se *add. sup. lin.*) invicem alfa ad W (usque devolvitur *add. in marg.*)"
   ]
  },
  {
   "cell_type": "markdown",
   "metadata": {
    "slideshow": {
     "slide_type": "fragment"
    }
   },
   "source": [
    "TEI/XML: `<tei>Concurrentibus enim <add place=\"above\">in se</add> invicem alfa ad W <add place=\"margin\">usque devolvitur</add></tei>`"
   ]
  },
  {
   "cell_type": "markdown",
   "metadata": {
    "slideshow": {
     "slide_type": "notes"
    }
   },
   "source": [
    "As a human reader, I would say: this text can be read in several orders. In other words, there is a point in the text where the words no longer form a linear sequence. I may be biased(!), but I consider a variant graph a good representation of the two ways of reading this text:"
   ]
  },
  {
   "cell_type": "markdown",
   "metadata": {
    "slideshow": {
     "slide_type": "subslide"
    }
   },
   "source": [
    "<img src=\"data-evina/variant-graph-isidorus-f9r.png\">"
   ]
  },
  {
   "cell_type": "markdown",
   "metadata": {
    "slideshow": {
     "slide_type": "slide"
    }
   },
   "source": [
    "<div align=\"center\"><h1>2. Automated collation and XML</h1></div>"
   ]
  },
  {
   "cell_type": "markdown",
   "metadata": {
    "slideshow": {
     "slide_type": "subslide"
    }
   },
   "source": [
    "## Current approaches"
   ]
  },
  {
   "cell_type": "markdown",
   "metadata": {
    "slideshow": {
     "slide_type": "subslide"
    }
   },
   "source": [
    "## HyperCollate"
   ]
  },
  {
   "cell_type": "markdown",
   "metadata": {
    "slideshow": {
     "slide_type": "slide"
    }
   },
   "source": [
    "<div align=\"center\"><h1>3. Research under Development</h1></div>"
   ]
  },
  {
   "cell_type": "markdown",
   "metadata": {
    "slideshow": {
     "slide_type": "subslide"
    }
   },
   "source": [
    "## Ongoing issues: "
   ]
  },
  {
   "cell_type": "markdown",
   "metadata": {
    "slideshow": {
     "slide_type": "fragment"
    }
   },
   "source": [
    "### Open variants\n",
    "[example]"
   ]
  },
  {
   "cell_type": "markdown",
   "metadata": {
    "slideshow": {
     "slide_type": "fragment"
    }
   },
   "source": [
    "### Visualisations of the output\n",
    "[example]"
   ]
  },
  {
   "cell_type": "markdown",
   "metadata": {
    "slideshow": {
     "slide_type": "fragment"
    }
   },
   "source": [
    "### (Insignificant) whitespace between elements representing revisions"
   ]
  },
  {
   "cell_type": "markdown",
   "metadata": {
    "slideshow": {
     "slide_type": "fragment"
    }
   },
   "source": [
    "### Transpositions"
   ]
  },
  {
   "cell_type": "markdown",
   "metadata": {},
   "source": [
    "### Immediate corrections (*Sofortkorrektur*, revision *currente calamo*)"
   ]
  },
  {
   "cell_type": "markdown",
   "metadata": {},
   "source": [
    "### Evina:\n",
    "Concurrentibus enim (in se *add. sup. lin.*) invicem alfa ad W (usque devolvitur *add. in marg.*)"
   ]
  }
 ],
 "metadata": {
  "celltoolbar": "Slideshow",
  "kernelspec": {
   "display_name": "Python 3",
   "language": "python",
   "name": "python3"
  },
  "language_info": {
   "codemirror_mode": {
    "name": "ipython",
    "version": 3
   },
   "file_extension": ".py",
   "mimetype": "text/x-python",
   "name": "python",
   "nbconvert_exporter": "python",
   "pygments_lexer": "ipython3",
   "version": "3.6.10"
  }
 },
 "nbformat": 4,
 "nbformat_minor": 4
}
